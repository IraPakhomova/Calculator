{
  "cells": [
    {
      "cell_type": "markdown",
      "metadata": {
        "id": "view-in-github",
        "colab_type": "text"
      },
      "source": [
        "<a href=\"https://colab.research.google.com/github/IraPakhomova/Calculator/blob/master/%227_1_assignment_ipynb%22.ipynb\" target=\"_parent\"><img src=\"https://colab.research.google.com/assets/colab-badge.svg\" alt=\"Open In Colab\"/></a>"
      ]
    },
    {
      "cell_type": "markdown",
      "metadata": {
        "id": "K-xXkt9Ztf7J"
      },
      "source": [
        "# Assignment 7.1\n",
        "\n",
        "> Replace all TODOs with your code.\n",
        ">\n",
        "> Do not change any other code and do not add/remove cells!"
      ]
    },
    {
      "cell_type": "code",
      "execution_count": 1,
      "metadata": {
        "id": "sGdc6BbbALg9"
      },
      "outputs": [],
      "source": [
        "# Do not edit this cell\n",
        "\n",
        "from typing import List, Dict"
      ]
    },
    {
      "cell_type": "markdown",
      "metadata": {
        "id": "cfhcjaX0vXXa"
      },
      "source": [
        "## Clients"
      ]
    },
    {
      "cell_type": "markdown",
      "metadata": {
        "id": "Vlz14hyr6wV6"
      },
      "source": [
        "### Task 1\n",
        "\n",
        "Write a function that takes a GitHub repository name as input and uses the [GitHub Repository API](https://docs.github.com/en/rest/repos) to retrieve and return information about the specified repository, including:\n",
        "\n",
        "* Repository Name\n",
        "* Owner\n",
        "* Description\n",
        "* License (if available)\n",
        "* Creation Date\n",
        "\n",
        "Use the `requests` module for this task."
      ]
    },
    {
      "cell_type": "code",
      "execution_count": 4,
      "metadata": {
        "id": "vDYn-dRb7xIX",
        "colab": {
          "base_uri": "https://localhost:8080/"
        },
        "outputId": "5cd08d07-4047-4788-cbd3-13a31ed02648"
      },
      "outputs": [
        {
          "output_type": "execute_result",
          "data": {
            "text/plain": [
              "{'Repository Name': 'Hello-World',\n",
              " 'Owner': 'octocat',\n",
              " 'Description': 'My first repository on GitHub!',\n",
              " 'License': 'N/A',\n",
              " 'Creation Date': '2011-01-26T19:01:12Z'}"
            ]
          },
          "metadata": {},
          "execution_count": 4
        }
      ],
      "source": [
        "import requests\n",
        "\n",
        "def get_repository_info(repo_name: str) -> Dict[str, str]:\n",
        "    url = f\"https://api.github.com/repos/{repo_name}\"\n",
        "    response = requests.get(url)\n",
        "\n",
        "    if response.status_code == 200:\n",
        "        data = response.json()\n",
        "        repo_info = {\n",
        "            \"Repository Name\": data.get(\"name\", \"N/A\"),\n",
        "            \"Owner\": data.get(\"owner\", {}).get(\"login\", \"N/A\"),\n",
        "            \"Description\": data.get(\"description\", \"N/A\"),\n",
        "            \"License\": data.get(\"license\", {}).get(\"name\", \"N/A\") if data.get(\"license\") else \"N/A\",\n",
        "            \"Creation Date\": data.get(\"created_at\", \"N/A\"),\n",
        "    }\n",
        "        return repo_info\n",
        "    else:\n",
        "        print(f\"Error: Unable to get repository info (Status Code: {response.status_code})\")\n",
        "        return {}\n",
        "\n",
        "get_repository_info(\"octocat/Hello-World\")"
      ]
    },
    {
      "cell_type": "markdown",
      "metadata": {
        "id": "0TC34gv79VEo"
      },
      "source": [
        "### Task 2\n",
        "\n",
        "Write a function that takes a GitHub repository name and uses the [GitHub Commits API](https://docs.github.com/en/rest/commits/commits) to retrieve and return information about the five most recent commits in a selected GitHub repository, including:\n",
        "* Commit Message\n",
        "* Author\n",
        "* Date\n",
        "* Link to the commit on GitHub\n",
        "\n",
        "Use the `requests` module for this task."
      ]
    },
    {
      "cell_type": "code",
      "execution_count": 11,
      "metadata": {
        "id": "Kf2284dT-atu",
        "colab": {
          "base_uri": "https://localhost:8080/"
        },
        "outputId": "fa7ebcf0-2df8-4007-bc69-33bb435247e8"
      },
      "outputs": [
        {
          "output_type": "execute_result",
          "data": {
            "text/plain": [
              "[{'Commit Message': 'Merge pull request #6 from Spaceghost/patch-1\\n\\nNew line at end of file.',\n",
              "  'Author': 'The Octocat',\n",
              "  'Date': '2012-03-06T23:06:50Z',\n",
              "  'Link': 'https://github.com/octocat/Hello-World/commit/7fd1a60b01f91b314f59955a4e4d4e80d8edf11d'},\n",
              " {'Commit Message': 'New line at end of file. --Signed off by Spaceghost',\n",
              "  'Author': 'Johnneylee Jack Rollins',\n",
              "  'Date': '2011-09-14T04:42:41Z',\n",
              "  'Link': 'https://github.com/octocat/Hello-World/commit/762941318ee16e59dabbacb1b4049eec22f0d303'},\n",
              " {'Commit Message': 'first commit',\n",
              "  'Author': 'cameronmcefee',\n",
              "  'Date': '2011-01-26T19:06:08Z',\n",
              "  'Link': 'https://github.com/octocat/Hello-World/commit/553c2077f0edc3d5dc5d17262f6aa498e69d6f8e'}]"
            ]
          },
          "metadata": {},
          "execution_count": 11
        }
      ],
      "source": [
        "def get_recent_commits(repo_name: str) -> List[Dict[str, str]]:\n",
        "    url = f\"https://api.github.com/repos/{repo_name}/commits\"\n",
        "    response = requests.get(url)\n",
        "\n",
        "    if response.status_code == 200:\n",
        "        commits = response.json()\n",
        "        recent_commits_info = []\n",
        "\n",
        "        for commit in commits[:5]:\n",
        "            commit_info = {\n",
        "                \"Commit Message\": commit.get(\"commit\", {}).get(\"message\", \"N/A\"),\n",
        "                \"Author\": commit.get(\"commit\", {}).get(\"author\", {}).get(\"name\", \"N/A\"),\n",
        "                \"Date\": commit.get(\"commit\", {}).get(\"author\", {}).get(\"date\", \"N/A\"),\n",
        "                \"Link\": commit.get(\"html_url\", \"N/A\")\n",
        "            }\n",
        "            recent_commits_info.append(commit_info)\n",
        "\n",
        "        return recent_commits_info\n",
        "    else:\n",
        "        print(f\"Error: Unable to get commits info (Status Code: {response.status_code})\")\n",
        "        return []\n",
        "\n",
        "get_recent_commits(\"octocat/Hello-World\")"
      ]
    }
  ],
  "metadata": {
    "colab": {
      "provenance": [],
      "include_colab_link": true
    },
    "kernelspec": {
      "display_name": "Python 3",
      "name": "python3"
    },
    "language_info": {
      "name": "python"
    }
  },
  "nbformat": 4,
  "nbformat_minor": 0
}